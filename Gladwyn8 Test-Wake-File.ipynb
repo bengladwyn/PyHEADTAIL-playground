{
 "cells": [
  {
   "cell_type": "markdown",
   "metadata": {},
   "source": [
    "#  Recycler Simulation"
   ]
  },
  {
   "cell_type": "code",
   "execution_count": 1,
   "metadata": {},
   "outputs": [
    {
     "name": "stdout",
     "output_type": "stream",
     "text": [
      "PyHEADTAIL v1.16.0\n"
     ]
    }
   ],
   "source": [
    "import numpy as np\n",
    "np.random.seed(42)\n",
    "\n",
    "import matplotlib.pyplot as plt\n",
    "\n",
    "import seaborn as sns\n",
    "sns.set_context('talk')\n",
    "\n",
    "import copy\n",
    "\n",
    "from scipy.constants import c, e, m_p\n",
    "\n",
    "import PyHEADTAIL\n",
    "\n",
    "from FERMImachines import RR\n",
    "\n",
    "from PyHEADTAIL.particles.slicing import UniformBinSlicer\n",
    "from PyHEADTAIL.impedances.wakes import CircularResistiveWall, CircularResonator, WakeField, WakeTable"
   ]
  },
  {
   "cell_type": "code",
   "execution_count": 2,
   "metadata": {},
   "outputs": [
    {
     "name": "stdout",
     "output_type": "stream",
     "text": [
      "0.5\n"
     ]
    },
    {
     "name": "stderr",
     "output_type": "stream",
     "text": [
      "c:\\Users\\bengl\\AppData\\Local\\Programs\\Python\\Python311\\Lib\\site-packages\\scipy\\integrate\\_quadpack_py.py:1233: IntegrationWarning: The integral is probably divergent, or slowly convergent.\n",
      "  quad_r = quad(f, low, high, args=args, full_output=self.full_output,\n"
     ]
    },
    {
     "ename": "ValueError",
     "evalue": "dipole_x does not meet requirements.",
     "output_type": "error",
     "traceback": [
      "\u001b[1;31m---------------------------------------------------------------------------\u001b[0m",
      "\u001b[1;31mValueError\u001b[0m                                Traceback (most recent call last)",
      "Cell \u001b[1;32mIn[2], line 26\u001b[0m\n\u001b[0;32m     24\u001b[0m wakefile \u001b[39m=\u001b[39m \u001b[39mr\u001b[39m\u001b[39m'\u001b[39m\u001b[39mC:\u001b[39m\u001b[39m\\\\\u001b[39;00m\u001b[39mUsers\u001b[39m\u001b[39m\\\u001b[39m\u001b[39mbengl\u001b[39m\u001b[39m\\\u001b[39m\u001b[39mDocuments\u001b[39m\u001b[39m\\\\\u001b[39;00m\u001b[39mPyHEADTAIL-playground\u001b[39m\u001b[39m\\\\\u001b[39;00m\u001b[39mTestWakeFile.dat\u001b[39m\u001b[39m'\u001b[39m\n\u001b[0;32m     25\u001b[0m wake_table \u001b[39m=\u001b[39m WakeTable(wakefile, [\u001b[39m'\u001b[39m\u001b[39mtime\u001b[39m\u001b[39m'\u001b[39m, \u001b[39m'\u001b[39m\u001b[39mdipole_x\u001b[39m\u001b[39m'\u001b[39m, \u001b[39m'\u001b[39m\u001b[39mdipole_y\u001b[39m\u001b[39m'\u001b[39m, \u001b[39m'\u001b[39m\u001b[39mquadrupole_x\u001b[39m\u001b[39m'\u001b[39m, \u001b[39m'\u001b[39m\u001b[39mquadrupole_y\u001b[39m\u001b[39m'\u001b[39m,\u001b[39m'\u001b[39m\u001b[39mnonsense\u001b[39m\u001b[39m'\u001b[39m],n_turns_wake\u001b[39m=\u001b[39m\u001b[39m5\u001b[39m)   \u001b[39m# Follow the order of the columns in the wake file here. If you want to exclude a component, change the name e.g. for the dipole y to 'no_dipole_y'.\u001b[39;00m\n\u001b[1;32m---> 26\u001b[0m wake_field \u001b[39m=\u001b[39m WakeField(uniform_bin_slicer, wake_table) \u001b[39m#, wake_table_k, wake_table_k)\u001b[39;00m\n\u001b[0;32m     28\u001b[0m \u001b[39m#wake_table = CircularResistiveWall(pipe_radius=5e-2, resistive_wall_length=C, conductivity=3e4, dt_min=1e-3/c, beta=bunch.beta, n_turns_wake=100)\u001b[39;00m\n\u001b[0;32m     29\u001b[0m \u001b[39m#wake_field = WakeField(uniform_bin_slicer, wake_table)\u001b[39;00m\n\u001b[0;32m     30\u001b[0m machine\u001b[39m.\u001b[39mone_turn_map\u001b[39m.\u001b[39mappend(wake_field)\n",
      "File \u001b[1;32mc:\\Users\\bengl\\AppData\\Local\\Programs\\Python\\Python311\\Lib\\site-packages\\pyheadtail-1.16.0-py3.11-win-amd64.egg\\PyHEADTAIL\\impedances\\wakes.py:113\u001b[0m, in \u001b[0;36mWakeField.__init__\u001b[1;34m(self, slicer, *wake_sources)\u001b[0m\n\u001b[0;32m    111\u001b[0m \u001b[39mself\u001b[39m\u001b[39m.\u001b[39mwake_kicks \u001b[39m=\u001b[39m []\n\u001b[0;32m    112\u001b[0m \u001b[39mfor\u001b[39;00m source \u001b[39min\u001b[39;00m wake_sources:\n\u001b[1;32m--> 113\u001b[0m     kicks \u001b[39m=\u001b[39m source\u001b[39m.\u001b[39;49mget_wake_kicks(\u001b[39mself\u001b[39;49m\u001b[39m.\u001b[39;49mslicer)\n\u001b[0;32m    114\u001b[0m     \u001b[39mself\u001b[39m\u001b[39m.\u001b[39mwake_kicks\u001b[39m.\u001b[39mextend(kicks)\n\u001b[0;32m    116\u001b[0m n_turns_wake_max \u001b[39m=\u001b[39m \u001b[39mmax\u001b[39m([ source\u001b[39m.\u001b[39mn_turns_wake\n\u001b[0;32m    117\u001b[0m                          \u001b[39mfor\u001b[39;00m source \u001b[39min\u001b[39;00m wake_sources ])\n",
      "File \u001b[1;32mc:\\Users\\bengl\\AppData\\Local\\Programs\\Python\\Python311\\Lib\\site-packages\\pyheadtail-1.16.0-py3.11-win-amd64.egg\\PyHEADTAIL\\impedances\\wakes.py:244\u001b[0m, in \u001b[0;36mWakeTable.get_wake_kicks\u001b[1;34m(self, slicer)\u001b[0m\n\u001b[0;32m    242\u001b[0m \u001b[39m# Dipolar wake kicks.\u001b[39;00m\n\u001b[0;32m    243\u001b[0m \u001b[39mif\u001b[39;00m \u001b[39mself\u001b[39m\u001b[39m.\u001b[39m_is_provided(\u001b[39m'\u001b[39m\u001b[39mdipole_x\u001b[39m\u001b[39m'\u001b[39m):\n\u001b[1;32m--> 244\u001b[0m     wake_function \u001b[39m=\u001b[39m \u001b[39mself\u001b[39;49m\u001b[39m.\u001b[39;49mfunction_transverse(\u001b[39m'\u001b[39;49m\u001b[39mdipole_x\u001b[39;49m\u001b[39m'\u001b[39;49m)\n\u001b[0;32m    245\u001b[0m     wake_kicks\u001b[39m.\u001b[39mappend(DipoleWakeKickX(\n\u001b[0;32m    246\u001b[0m         wake_function, slicer, \u001b[39mself\u001b[39m\u001b[39m.\u001b[39mn_turns_wake))\n\u001b[0;32m    248\u001b[0m \u001b[39mif\u001b[39;00m \u001b[39mself\u001b[39m\u001b[39m.\u001b[39m_is_provided(\u001b[39m'\u001b[39m\u001b[39mdipole_y\u001b[39m\u001b[39m'\u001b[39m):\n",
      "File \u001b[1;32mc:\\Users\\bengl\\AppData\\Local\\Programs\\Python\\Python311\\Lib\\site-packages\\pyheadtail-1.16.0-py3.11-win-amd64.egg\\PyHEADTAIL\\impedances\\wakes.py:337\u001b[0m, in \u001b[0;36mWakeTable.function_transverse\u001b[1;34m(self, wake_component)\u001b[0m\n\u001b[0;32m    334\u001b[0m     \u001b[39mself\u001b[39m\u001b[39m.\u001b[39mprints(wake_component \u001b[39m+\u001b[39m  \u001b[39m'\u001b[39m\u001b[39m Found low beta wake.\u001b[39m\u001b[39m'\u001b[39m)\n\u001b[0;32m    336\u001b[0m \u001b[39melse\u001b[39;00m:\n\u001b[1;32m--> 337\u001b[0m     \u001b[39mraise\u001b[39;00m \u001b[39mValueError\u001b[39;00m(wake_component \u001b[39m+\u001b[39m\n\u001b[0;32m    338\u001b[0m                      \u001b[39m'\u001b[39m\u001b[39m does not meet requirements.\u001b[39m\u001b[39m'\u001b[39m)\n\u001b[0;32m    339\u001b[0m \u001b[39mreturn\u001b[39;00m wake\n",
      "\u001b[1;31mValueError\u001b[0m: dipole_x does not meet requirements."
     ]
    }
   ],
   "source": [
    "intensities =np.array([0.5,1,2,3,4])\n",
    "tune_freqs = []\n",
    "n_turns = 2048\n",
    "\n",
    "for i, intensity in enumerate(intensities):\n",
    "    print(intensity)\n",
    "    machine = RR(n_segments=1, machine_configuration='53MHz', \n",
    "                optics='smooth', printer=PyHEADTAIL.general.printers.SilentPrinter())\n",
    "\n",
    "    C = machine.circumference\n",
    "\n",
    "    epsn_x = epsn_y = 2.5e-6*np.pi # in [m.rad]\n",
    "\n",
    "    bunch = machine.generate_6D_Gaussian_bunch_matched(\n",
    "        n_macroparticles=int(5e4), intensity=intensity*1e11, \n",
    "        epsn_x=epsn_x, epsn_y=epsn_y, sigma_z=0.57)\n",
    "\n",
    "    n_sigma_z = 2\n",
    "    n_slices = 50\n",
    "    uniform_bin_slicer = UniformBinSlicer(n_slices=n_slices, n_sigma_z=n_sigma_z)\n",
    "\n",
    "    #wake_table = CircularResonator(R_shunt=1e6, frequency=1e9, Q=1)\n",
    "\n",
    "    wakefile = r'C:\\\\Users\\bengl\\Documents\\\\PyHEADTAIL-playground\\\\TestWakeFile.dat'\n",
    "    wake_table = WakeTable(wakefile, ['time', 'dipole_x', 'dipole_y', 'quadrupole_x', 'quadrupole_y','nonsense'],n_turns_wake=5)   # Follow the order of the columns in the wake file here. If you want to exclude a component, change the name e.g. for the dipole y to 'no_dipole_y'.\n",
    "    wake_field = WakeField(uniform_bin_slicer, wake_table) #, wake_table_k, wake_table_k)\n",
    "    \n",
    "    #wake_table = CircularResistiveWall(pipe_radius=5e-2, resistive_wall_length=C, conductivity=3e4, dt_min=1e-3/c, beta=bunch.beta, n_turns_wake=100)\n",
    "    #wake_field = WakeField(uniform_bin_slicer, wake_table)\n",
    "    machine.one_turn_map.append(wake_field)\n",
    "    \n",
    "    m_x = []\n",
    "    m_y = []\n",
    "    \n",
    "    for i in range(n_turns):\n",
    "        machine.track(bunch)\n",
    "        m_x.append(bunch.mean_x())\n",
    "        m_y.append(bunch.mean_y())\n",
    "        if i % 100 == 0:\n",
    "            print(i)\n",
    "\n",
    "    m_x = np.array(m_x)\n",
    "    m_y = np.array(m_y)\n",
    "\n",
    "    max_index = np.argmax(np.abs(np.fft.rfft(m_x)))\n",
    "    freqs = np.fft.rfftfreq(n_turns)\n",
    "    max_freq = freqs[max_index]\n",
    "\n",
    "    tune_freqs.append(max_freq)\n",
    "\n",
    "plt.plot(intensities, tune_freqs, 'o')\n",
    "plt.xlabel('intensity e11')\n",
    "plt.ylabel('tune frequency $Q_x$ [Hz]')\n",
    "a,b = np.polyfit(intensities, tune_freqs, 1)\n",
    "plt.plot(intensities,  intensities*a+b, label='linear fit')\n",
    "plt.show()"
   ]
  },
  {
   "cell_type": "code",
   "execution_count": null,
   "metadata": {},
   "outputs": [
    {
     "name": "stdout",
     "output_type": "stream",
     "text": [
      "-0.00048828125\n",
      "0.00048828125\n"
     ]
    }
   ],
   "source": [
    "print(tune_freqs[1]-tune_freqs[0])\n",
    "print(freqs[1]-freqs[0])\n"
   ]
  }
 ],
 "metadata": {
  "kernelspec": {
   "display_name": "Python 3",
   "language": "python",
   "name": "python3"
  },
  "language_info": {
   "codemirror_mode": {
    "name": "ipython",
    "version": 3
   },
   "file_extension": ".py",
   "mimetype": "text/x-python",
   "name": "python",
   "nbconvert_exporter": "python",
   "pygments_lexer": "ipython3",
   "version": "3.11.4"
  },
  "orig_nbformat": 4
 },
 "nbformat": 4,
 "nbformat_minor": 2
}
