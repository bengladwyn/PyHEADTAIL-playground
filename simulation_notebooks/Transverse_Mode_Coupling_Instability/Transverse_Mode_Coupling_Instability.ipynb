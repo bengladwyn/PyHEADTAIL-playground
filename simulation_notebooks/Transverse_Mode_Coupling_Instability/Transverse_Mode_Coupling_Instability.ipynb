{
 "cells": [
  {
   "cell_type": "markdown",
   "metadata": {},
   "source": [
    "# Transverse Mode Coupling Instability in LHC\n",
    "\n",
    "This notebook demonstrates the transverse mode coupling instability (TMCI, sometimes also called fast head-tail instability) due to wake field interaction with a 2-particle model. The instability mechanism feeds energy from one synchrotron sideband (head-tail mode) of the betatron tune to another, when their frequencies overlap. Here it will be mode 0 and mode -1 for an impedance regime similar to the real LHC (where the instability threshold is an order of magnitude above this example). The two modes couple at a certain intensity because their frequencies are shifted by the wake field in different slopes.\n",
    "\n",
    "In the following we create a macro-particle beam made of 2 particles in the LHC at vanishing chromaticity. They interact via a broad-band resonator wakefield. The motion of the 2 macro-particles illustrates the instability mechanism in the following PyHEADTAIL simulation.\n",
    "\n",
    "Created 2018 by David Amorim and Adrian Oeftiger"
   ]
  },
  {
   "cell_type": "markdown",
   "metadata": {},
   "source": [
    "## Videos (results from simulations):\n",
    "\n",
    "If the following videos do not appear, consider opening this notebook in read mode here:\n",
    "\n",
    "http://nbviewer.jupyter.org/github/PyCOMPLETE/PyHEADTAIL-playground/blob/master/Transverse_Mode_Coupling_Instability/TMCI_2particle_model.ipynb"
   ]
  },
  {
   "cell_type": "markdown",
   "metadata": {},
   "source": [
    "### Below the TMCI threshold at $N=10^{10}$ ppb:\n",
    "\n",
    "Mode 0 (in phase transversely):"
   ]
  },
  {
   "cell_type": "code",
   "execution_count": 23,
   "metadata": {
    "collapsed": false
   },
   "outputs": [
    {
     "data": {
      "text/html": [
       "<video controls>\n",
       "  <source src=\"./plots_mode0_weak_impedance/video.webm\" type=\"video/webm\">\n",
       "</video>\n"
      ],
      "text/plain": [
       "<IPython.core.display.HTML object>"
      ]
     },
     "metadata": {},
     "output_type": "display_data"
    }
   ],
   "source": [
    "%%HTML\n",
    "<video controls>\n",
    "  <source src=\"./plots_mode0_weak_impedance/video.webm\" type=\"video/webm\">\n",
    "</video>"
   ]
  },
  {
   "cell_type": "markdown",
   "metadata": {},
   "source": [
    "Mode 1 (in anti phase transversely):"
   ]
  },
  {
   "cell_type": "code",
   "execution_count": 24,
   "metadata": {
    "collapsed": false
   },
   "outputs": [
    {
     "data": {
      "text/html": [
       "<video controls>\n",
       "  <source src=\"./plots_mode1_weak_impedance/video.webm\" type=\"video/webm\">\n",
       "</video>\n"
      ],
      "text/plain": [
       "<IPython.core.display.HTML object>"
      ]
     },
     "metadata": {},
     "output_type": "display_data"
    }
   ],
   "source": [
    "%%HTML\n",
    "<video controls>\n",
    "  <source src=\"./plots_mode1_weak_impedance/video.webm\" type=\"video/webm\">\n",
    "</video>"
   ]
  },
  {
   "cell_type": "markdown",
   "metadata": {},
   "source": [
    "### Above the TMCI threshold at $N=10^{11}$ ppb:\n",
    "\n",
    "Mode 0 (in phase transversely):"
   ]
  },
  {
   "cell_type": "code",
   "execution_count": 25,
   "metadata": {
    "collapsed": false
   },
   "outputs": [
    {
     "data": {
      "text/html": [
       "<video controls>\n",
       "  <source src=\"./plots_mode0_strong_impedance/video.webm\" type=\"video/webm\">\n",
       "</video>\n"
      ],
      "text/plain": [
       "<IPython.core.display.HTML object>"
      ]
     },
     "metadata": {},
     "output_type": "display_data"
    }
   ],
   "source": [
    "%%HTML\n",
    "<video controls>\n",
    "  <source src=\"./plots_mode0_strong_impedance/video.webm\" type=\"video/webm\">\n",
    "</video>"
   ]
  },
  {
   "cell_type": "markdown",
   "metadata": {},
   "source": [
    "Mode 1 (in anti phase transversely):"
   ]
  },
  {
   "cell_type": "code",
   "execution_count": 26,
   "metadata": {
    "collapsed": false
   },
   "outputs": [
    {
     "data": {
      "text/html": [
       "<video controls>\n",
       "  <source src=\"./plots_mode1_strong_impedance/video.webm\" type=\"video/webm\">\n",
       "</video>\n"
      ],
      "text/plain": [
       "<IPython.core.display.HTML object>"
      ]
     },
     "metadata": {},
     "output_type": "display_data"
    }
   ],
   "source": [
    "%%HTML\n",
    "<video controls>\n",
    "  <source src=\"./plots_mode1_strong_impedance/video.webm\" type=\"video/webm\">\n",
    "</video>"
   ]
  },
  {
   "cell_type": "markdown",
   "metadata": {},
   "source": [
    ".\n",
    "\n",
    ".\n",
    "\n",
    ".\n",
    "\n",
    "$\\implies$ Shall we simulate this? :-)\n",
    "\n",
    "\n",
    "## Imports for PyHEADTAIL simulations:"
   ]
  },
  {
   "cell_type": "code",
   "execution_count": 27,
   "metadata": {
    "collapsed": true
   },
   "outputs": [],
   "source": [
    "from __future__ import division, print_function\n",
    "range_ = range\n",
    "\n",
    "\n",
    "import time\n",
    "\n",
    "import numpy as np\n",
    "# np.random.seed(10000042)\n",
    "import h5py\n",
    "from scipy.constants import e, m_p, c\n",
    "\n",
    "import matplotlib\n",
    "import matplotlib.pyplot as plt\n",
    "%matplotlib inline\n",
    "\n",
    "import seaborn as sns\n",
    "\n",
    "sns.set(font_scale=1.4)\n",
    "\n",
    "# Change the size of the fonts\n",
    "params = {'font.size': 50,\n",
    "          'xtick.labelsize': 16,\n",
    "          'ytick.labelsize': 16,\n",
    "          'legend.fontsize': 16,\n",
    "          'legend.handlelength': 2,\n",
    "         }\n",
    "plt.rcParams.update(params)"
   ]
  },
  {
   "cell_type": "code",
   "execution_count": 28,
   "metadata": {
    "collapsed": true
   },
   "outputs": [],
   "source": [
    "import os, sys\n",
    "sys.path.append('../')\n",
    "try:\n",
    "    from settings import *\n",
    "except ImportError:\n",
    "    pass"
   ]
  },
  {
   "cell_type": "code",
   "execution_count": 29,
   "metadata": {
    "collapsed": false
   },
   "outputs": [],
   "source": [
    "from PyHEADTAIL.particles.slicing import UniformBinSlicer\n",
    "from PyHEADTAIL.impedances.wakes import WakeTable, WakeField, CircularResonator\n",
    "from PyHEADTAIL.feedback.transverse_damper import TransverseDamper\n",
    "from PyHEADTAIL.monitors.monitors import (\n",
    "    BunchMonitor, ParticleMonitor, SliceMonitor)\n",
    "from PyHEADTAIL.particles.particles import Particles\n",
    "from PyHEADTAIL.general.printers import SilentPrinter"
   ]
  },
  {
   "cell_type": "markdown",
   "metadata": {},
   "source": [
    "## Preparing the simulation:"
   ]
  },
  {
   "cell_type": "markdown",
   "metadata": {},
   "source": [
    "Here we define the beam and machine parameters, including the broadband resonator's shunt impedance, frequency and quality factor.\n",
    "\n",
    "An intensity of $N=10^{11}$ ppb is unstable, while $N=10^{10}$ ppb remains below the TMCI treshold here."
   ]
  },
  {
   "cell_type": "code",
   "execution_count": 30,
   "metadata": {
    "collapsed": false
   },
   "outputs": [],
   "source": [
    "# BEAM AND MACHINE PARAMETERS\n",
    "# ============================\n",
    "\n",
    "intensity_stable = 1e10\n",
    "intensity_unstable = 1e11\n",
    "\n",
    "# Beam parameters\n",
    "intensity = intensity_stable\n",
    "epsn_x = 3.e-6 # normalised horizontal emittance in meters rad\n",
    "epsn_y = 3.e-6 # normalised vertical emittance in meters rad\n",
    "sigma_z = 1.2e-9 * c / 4. # RMS bunch length in meters\n",
    "\n",
    "# Resonator parameters\n",
    "R_shunt = 90.0e6\n",
    "frequency = 0.5e9\n",
    "Q = 1\n",
    "\n",
    "# Machine parameters\n",
    "chroma = 0\n",
    "longitudinal_mode = 'linear'\n",
    "\n",
    "from LHC import LHC\n",
    "\n",
    "machine = LHC(n_segments=1,\n",
    "              machine_configuration='LHC_6.5TeV_collision_2016',\n",
    "              longitudinal_mode=longitudinal_mode,\n",
    "              Qp_x=[chroma], Qp_y=[chroma], \n",
    "              printer=SilentPrinter())"
   ]
  },
  {
   "cell_type": "markdown",
   "metadata": {},
   "source": [
    "If the `LHC.py` file is missing (`\"ImportError: No module named LHC\"`), download it here: https://github.com/PyCOMPLETE/PyHEADTAIL-playground/tree/master/Transverse_Mode_Coupling_Instability ."
   ]
  },
  {
   "cell_type": "markdown",
   "metadata": {},
   "source": [
    "The bunch is generated with only two macro-particles in opposite synchrotron phases.\n",
    "To distinguish a mode 0 from a mode 1, the initial \n",
    "transverse positions of the two particles have to be adapted accordingly: \n",
    "\n",
    "mode 0: same offset, e.g. both at +1μm\n",
    "\n",
    "mode 1: opposite offset, e.g. +1μm and -1μm"
   ]
  },
  {
   "cell_type": "code",
   "execution_count": 31,
   "metadata": {
    "collapsed": false
   },
   "outputs": [],
   "source": [
    "mode0 = [1.0e-6, 1.0e-6]\n",
    "mode1 = [-1.0e-6, 1.0e-6]\n",
    "\n",
    "mode_initialise = mode1\n",
    "\n",
    "initial_conditions = {\n",
    "  'x': np.array(mode_initialise, dtype=np.float64),\n",
    "  'xp': np.array([0, 0], dtype=np.float64),\n",
    "  'y': np.array([0, 0], dtype=np.float64),\n",
    "  'yp': np.array([0, 0], dtype=np.float64),\n",
    "  'z': np.array([-sigma_z, +sigma_z], dtype=np.float64),\n",
    "  'dp': np.array([0, 0], dtype=np.float64),\n",
    "}\n",
    "\n",
    "bunch = Particles(\n",
    "    2, intensity/2, e, m_p, machine.circumference, machine.gamma, \n",
    "    coords_n_momenta_dict=initial_conditions)"
   ]
  },
  {
   "cell_type": "markdown",
   "metadata": {},
   "source": [
    "Resolving the wake field accurately for the location of the trailing particle requires a fine slicing interval, we will therefore use 1000 slices. Longitudinal motion is bound on the interval $[-\\sigma_z, +\\sigma_z]$, we add $10\\%$ margin for the slicing interval:"
   ]
  },
  {
   "cell_type": "code",
   "execution_count": 32,
   "metadata": {
    "collapsed": true
   },
   "outputs": [],
   "source": [
    "# CREATE BEAM SLICERS\n",
    "# ===================\n",
    "slicer_for_wakefields = UniformBinSlicer(\n",
    "    1000, z_cuts=(-1.1*sigma_z, 1.1*sigma_z))\n",
    "\n",
    "# CREATE WAKES\n",
    "# ============\n",
    "wake_table = CircularResonator(R_shunt, frequency, Q)\n",
    "wake_field = WakeField(slicer_for_wakefields, wake_table)\n",
    "\n",
    "machine.one_turn_map.append(wake_field)"
   ]
  },
  {
   "cell_type": "markdown",
   "metadata": {},
   "source": [
    "The machine one-turn map now contains 3 elements: we will track the macro-particles' betatron motion around the ring, advance their synchrotron phase and finally apply the broadband resonator kick:"
   ]
  },
  {
   "cell_type": "code",
   "execution_count": 33,
   "metadata": {
    "collapsed": false,
    "scrolled": true
   },
   "outputs": [
    {
     "data": {
      "text/plain": [
       "[<PyHEADTAIL.trackers.transverse_tracking.TransverseSegmentMap at 0x2247feb63d0>,\n",
       " <PyHEADTAIL.trackers.longitudinal_tracking.RFSystems at 0x2247fec7890>,\n",
       " <PyHEADTAIL.impedances.wakes.WakeField at 0x2247fc682d0>]"
      ]
     },
     "execution_count": 33,
     "metadata": {},
     "output_type": "execute_result"
    }
   ],
   "source": [
    "machine.one_turn_map"
   ]
  },
  {
   "cell_type": "markdown",
   "metadata": {},
   "source": [
    "Fixing the length of the simulation run time:"
   ]
  },
  {
   "cell_type": "code",
   "execution_count": 34,
   "metadata": {
    "collapsed": false
   },
   "outputs": [],
   "source": [
    "n_turns = 2000"
   ]
  },
  {
   "cell_type": "markdown",
   "metadata": {},
   "source": [
    "The coordinates of the particles will be recorded at each turn in these empty arrays:"
   ]
  },
  {
   "cell_type": "code",
   "execution_count": 35,
   "metadata": {
    "collapsed": false
   },
   "outputs": [],
   "source": [
    "xsave = np.zeros((n_turns, bunch.macroparticlenumber), dtype=np.float32)\n",
    "xpsave = np.zeros((n_turns, bunch.macroparticlenumber), dtype=np.float32)\n",
    "ysave = np.zeros((n_turns, bunch.macroparticlenumber), dtype=np.float32)\n",
    "ypsave = np.zeros((n_turns, bunch.macroparticlenumber), dtype=np.float32)\n",
    "zsave = np.zeros((n_turns, bunch.macroparticlenumber), dtype=np.float32)\n",
    "dpsave = np.zeros((n_turns, bunch.macroparticlenumber), dtype=np.float32)\n",
    "\n",
    "mxsave = np.zeros(n_turns, dtype=np.float32)\n",
    "mysave = np.zeros(n_turns, dtype=np.float32)\n",
    "mzsave = np.zeros(n_turns, dtype=np.float32)"
   ]
  },
  {
   "cell_type": "markdown",
   "metadata": {},
   "source": [
    "## Tracking:"
   ]
  },
  {
   "cell_type": "code",
   "execution_count": 36,
   "metadata": {
    "collapsed": false,
    "scrolled": false
   },
   "outputs": [
    {
     "name": "stdout",
     "output_type": "stream",
     "text": [
      "\n",
      "--> Begin tracking...\n",
      "\n",
      "Centroids: (0, 0, 0) @ turn 0, 1.99819 ms, 24/07/2023 14:05:24\n",
      "Centroids: (3.76e-08, 0, 0) @ turn 100, 0.992775 ms, 24/07/2023 14:05:24\n",
      "Centroids: (4.08e-08, 0, 0) @ turn 200, 0.971317 ms, 24/07/2023 14:05:25\n",
      "Centroids: (4.48e-09, 0, 0) @ turn 300, 0.995874 ms, 24/07/2023 14:05:25\n",
      "Centroids: (-3.09e-08, 0, 0) @ turn 400, 0.998259 ms, 24/07/2023 14:05:25\n",
      "Centroids: (-4.07e-08, 0, 0) @ turn 500, 0.996828 ms, 24/07/2023 14:05:25\n",
      "Centroids: (-6.76e-09, 0, 0) @ turn 600, 0 ms, 24/07/2023 14:05:25\n",
      "Centroids: (2.55e-08, 0, 0) @ turn 700, 0.99802 ms, 24/07/2023 14:05:25\n",
      "Centroids: (4.03e-08, 0, 0) @ turn 800, 0.998735 ms, 24/07/2023 14:05:25\n"
     ]
    },
    {
     "name": "stdout",
     "output_type": "stream",
     "text": [
      "Centroids: (9.05e-09, 0, 0) @ turn 900, 0.99349 ms, 24/07/2023 14:05:25\n",
      "Centroids: (-2.03e-08, 0, 0) @ turn 1000, 1.00017 ms, 24/07/2023 14:05:25\n",
      "Centroids: (-3.89e-08, 0, 0) @ turn 1100, 2.00582 ms, 24/07/2023 14:05:25\n",
      "Centroids: (-1.17e-08, 0, 0) @ turn 1200, 0 ms, 24/07/2023 14:05:25\n",
      "Centroids: (1.42e-08, 0, 0) @ turn 1300, 1.00088 ms, 24/07/2023 14:05:26\n",
      "Centroids: (3.44e-08, 0, 0) @ turn 1400, 1.01137 ms, 24/07/2023 14:05:26\n",
      "Centroids: (1.14e-08, 0, 0) @ turn 1500, 0 ms, 24/07/2023 14:05:26\n",
      "Centroids: (-1.12e-08, 0, 0) @ turn 1600, 1.00756 ms, 24/07/2023 14:05:26\n",
      "Centroids: (-3.18e-08, 0, 0) @ turn 1700, 0 ms, 24/07/2023 14:05:26\n",
      "Centroids: (-1.4e-08, 0, 0) @ turn 1800, 0 ms, 24/07/2023 14:05:26\n",
      "Centroids: (4.89e-09, 0, 0) @ turn 1900, 0.808239 ms, 24/07/2023 14:05:26\n",
      "\n",
      "*** Successfully completed!\n"
     ]
    }
   ],
   "source": [
    "# TRACKING LOOP\n",
    "# =============\n",
    "print ('\\n--> Begin tracking...\\n')\n",
    "\n",
    "# GO!!!\n",
    "for i in range(n_turns):\n",
    "\n",
    "    t0 = time.time()\n",
    "\n",
    "    # track the beam around the machine for one turn:\n",
    "    machine.track(bunch)\n",
    "\n",
    "    mx, my, mz = bunch.mean_x(), bunch.mean_y(), bunch.mean_z()\n",
    "\n",
    "    xsave[i][:] = bunch.x\n",
    "    xpsave[i][:] = bunch.xp\n",
    "    ysave[i][:] = bunch.y\n",
    "    ypsave[i][:] = bunch.yp\n",
    "    zsave[i][:] = bunch.z\n",
    "    dpsave[i][:] = bunch.dp\n",
    "    \n",
    "    mxsave[i] = mx\n",
    "    mysave[i] = my\n",
    "    mzsave[i] = mz\n",
    "    \n",
    "    # print status all 100 turns:\n",
    "    if i % 100 == 0:\n",
    "        t1 = time.time()\n",
    "        print ('Centroids: ({:.3g}, {:.3g}, {:.3g})'\n",
    "               ' @ turn {:d}, {:g} ms, {:s}'.format(\n",
    "                    mx, my, mz, i, (t1-t0)*1e3, time.strftime(\n",
    "                        \"%d/%m/%Y %H:%M:%S\", time.localtime()))\n",
    "        )\n",
    "\n",
    "print ('\\n*** Successfully completed!')"
   ]
  },
  {
   "cell_type": "markdown",
   "metadata": {},
   "source": [
    "## Plotting the results:"
   ]
  },
  {
   "cell_type": "code",
   "execution_count": 37,
   "metadata": {
    "collapsed": true
   },
   "outputs": [],
   "source": [
    "# Find the maximum values of the data and use\n",
    "# them as a limit for the plots\n",
    "lim_x = np.abs(max(xsave.max(), xsave.min(), key=abs))\n",
    "lim_xp = np.abs(max(xpsave.max(), xpsave.min(), key=abs))\n",
    "\n",
    "lim_z = np.abs(max(zsave.max(), zsave.min(), key=abs))\n",
    "lim_dp = np.abs(max(dpsave.max(), dpsave.min(), key=abs))\n",
    "\n",
    "lim_x = 1.0e-6\n",
    "lim_z = 0.1"
   ]
  },
  {
   "cell_type": "markdown",
   "metadata": {},
   "source": [
    "We store the plots in a subdirectory to be able to create a video afterwards. Be aware, the plotting may take some minutes."
   ]
  },
  {
   "cell_type": "code",
   "execution_count": 38,
   "metadata": {
    "collapsed": false
   },
   "outputs": [
    {
     "data": {
      "image/png": "[encoded data removed]",
      "text/plain": [
       "<Figure size 1350x700 with 2 Axes>"
      ]
     },
     "metadata": {},
     "output_type": "display_data"
    }
   ],
   "source": [
    "save_directory = 'plots_mode1_weak_impedance/'\n",
    "\n",
    "if not os.path.exists('./'+save_directory):\n",
    "    os.makedirs('./'+save_directory)\n",
    "\n",
    "for turn_number in np.arange(0, n_turns , 10):\n",
    "\n",
    "    plt.close('all')\n",
    "    fig, ax_list = plt.subplots(1, 2, figsize=(13.5, 7), dpi=100)\n",
    "\n",
    "    ax = ax_list[0]\n",
    "    \n",
    "    mparticle_number = 0\n",
    "    ax.scatter(zsave[turn_number, mparticle_number]*1e3, xsave[turn_number, mparticle_number]*1e6, s=300)\n",
    "\n",
    "    mparticle_number = 1\n",
    "    ax.scatter(zsave[turn_number, mparticle_number]*1e3, xsave[turn_number, mparticle_number]*1e6, s=300, \n",
    "               label='macro-particle')\n",
    "\n",
    "    ax.scatter(mzsave[turn_number]*1e3, mxsave[turn_number]*1e6, s=600, c='k', label='centroid')\n",
    "    \n",
    "    ax.set_xlim(-1.0 * lim_z*1e3, 1.0 * lim_z*1e3)\n",
    "    ax.set_ylim(-8.0 * lim_x*1e6, 8.0 * lim_x*1e6)\n",
    "\n",
    "    ax.set_xlabel('Longitudinal position $z$ [m]')\n",
    "    ax.set_ylabel(u'Transverse position $x$ [μm]')\n",
    "    \n",
    "#     ax.text(0.05, 0.9, 'Turn: {:04d}'.format(turn_number),\n",
    "#             verticalalignment='bottom', horizontalalignment='left',\n",
    "#             transform=ax.transAxes, fontsize=18,\n",
    "#             bbox={'facecolor':'white', 'alpha':0.9, 'pad':3})\n",
    "    \n",
    "    ax.text(0.15, 0.05, 'Tail',\n",
    "        verticalalignment='bottom', horizontalalignment='center',\n",
    "        transform=ax.transAxes, fontsize=24,\n",
    "        bbox={'facecolor':'white', 'alpha':0.9, 'pad':3})\n",
    "    \n",
    "    ax.text(0.85, 0.05, 'Head',\n",
    "        verticalalignment='bottom', horizontalalignment='center',\n",
    "        transform=ax.transAxes, fontsize=24,\n",
    "        bbox={'facecolor':'white', 'alpha':0.9, 'pad':3})\n",
    "    \n",
    "    lgd = ax.legend(loc=2, frameon=True, ncol=2)\n",
    "    lgd.get_frame().set_facecolor('white')\n",
    "    \n",
    "    ax.set_title('Macro-particles')\n",
    "    \n",
    "    ax = ax_list[1]\n",
    "    \n",
    "    ax.plot(np.arange(0, turn_number), mxsave[:turn_number]*1e6, c='k')\n",
    "    \n",
    "    ax.set_xlim(0, n_turns)\n",
    "    ax.set_ylim(-8.0 * lim_x*1e6, 8.0 * lim_x*1e6)\n",
    "\n",
    "    ax.set_xlabel('Turn number')\n",
    "    ax.set_ylabel(r'Transverse position $\\langle x \\rangle$ ' + u'[μm]')\n",
    "    \n",
    "    ax.set_title('Centroid')\n",
    "    \n",
    "    plt.tight_layout()\n",
    "    \n",
    "    plt.savefig('./'+save_directory+'position{0:05d}.png'.format(turn_number))"
   ]
  },
  {
   "cell_type": "markdown",
   "metadata": {},
   "source": [
    "To create a video out of the multiple files, one can use ffmpeg (on Linux).\n",
    "\n",
    "In a terminal, create a H.264/AVC video via\n",
    "```bash\n",
    "$ ffmpeg -i position0%03d0.png -q:v 0 -c:v libx264 -framerate 10 -pix_fmt yuv420p video.avi\n",
    "```\n",
    "\n",
    "Or, for a web browser as for the above embedded videos:\n",
    "\n",
    "```bash\n",
    "$ ffmpeg -i position0%03d0.png -c:v libvpx -crf 10 -b:v 1M -c:a libvorbis -framerate 10 -pix_fmt yuv420p video.webm```\n",
    "\n",
    "Like this:"
   ]
  },
  {
   "cell_type": "code",
   "execution_count": 39,
   "metadata": {
    "collapsed": false,
    "scrolled": true
   },
   "outputs": [
    {
     "name": "stderr",
     "output_type": "stream",
     "text": [
      "ffmpeg version 4.0.2 Copyright (c) 2000-2018 the FFmpeg developers\n",
      "  built with gcc 7.3.1 (GCC) 20180722\n",
      "  configuration: --enable-gpl --enable-version3 --enable-sdl2 --enable-bzlib --enable-fontconfig --enable-gnutls --enable-iconv --enable-libass --enable-libbluray --enable-libfreetype --enable-libmp3lame --enable-libopencore-amrnb --enable-libopencore-amrwb --enable-libopenjpeg --enable-libopus --enable-libshine --enable-libsnappy --enable-libsoxr --enable-libtheora --enable-libtwolame --enable-libvpx --enable-libwavpack --enable-libwebp --enable-libx264 --enable-libx265 --enable-libxml2 --enable-libzimg --enable-lzma --enable-zlib --enable-gmp --enable-libvidstab --enable-libvorbis --enable-libvo-amrwbenc --enable-libmysofa --enable-libspeex --enable-libxvid --enable-libaom --enable-libmfx --enable-amf --enable-ffnvcodec --enable-cuvid --enable-d3d11va --enable-nvenc --enable-nvdec --enable-dxva2 --enable-avisynth\n",
      "  libavutil      56. 14.100 / 56. 14.100\n",
      "  libavcodec     58. 18.100 / 58. 18.100\n",
      "  libavformat    58. 12.100 / 58. 12.100\n",
      "  libavdevice    58.  3.100 / 58.  3.100\n",
      "  libavfilter     7. 16.100 /  7. 16.100\n",
      "  libswscale      5.  1.100 /  5.  1.100\n",
      "  libswresample   3.  1.100 /  3.  1.100\n",
      "  libpostproc    55.  1.100 / 55.  1.100\n",
      "[image2 @ 000001be5b25a640] Could find no file with path 'position0%03d0.png' and index in the range 0-4\n",
      "position0%03d0.png: No such file or directory\n"
     ]
    }
   ],
   "source": [
    "!cd ./plots_mode0_strong_impedance/ && \\\n",
    "    ffmpeg -i position0%03d0.png -q:v 0 -c:v libx264 -framerate 10 -pix_fmt yuv420p video.avi"
   ]
  },
  {
   "cell_type": "code",
   "execution_count": null,
   "metadata": {
    "collapsed": true
   },
   "outputs": [],
   "source": []
  }
 ],
 "metadata": {
  "kernelspec": {
   "display_name": "Python 3",
   "language": "python",
   "name": "python3"
  },
  "language_info": {
   "codemirror_mode": {
    "name": "ipython",
    "version": 3
   },
   "file_extension": ".py",
   "mimetype": "text/x-python",
   "name": "python",
   "nbconvert_exporter": "python",
   "pygments_lexer": "ipython3",
   "version": "3.11.4"
  }
 },
 "nbformat": 4,
 "nbformat_minor": 2
}
